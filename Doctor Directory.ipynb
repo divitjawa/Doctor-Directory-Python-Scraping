{
 "cells": [
  {
   "cell_type": "code",
   "execution_count": 184,
   "metadata": {},
   "outputs": [],
   "source": [
    "# import library\n",
    "from bs4 import BeautifulSoup\n",
    "import requests\n",
    "import json\n",
    "import pandas as pd\n",
    "import numpy as np"
   ]
  },
  {
   "cell_type": "code",
   "execution_count": 185,
   "metadata": {},
   "outputs": [],
   "source": [
    "# takes in baseURL and first url as arguments\n",
    "def returnDFfromAPIStanford(baseURL, url):\n",
    "    req=requests.get(url)\n",
    "    content=req.text\n",
    "    # clean up response and convert to json\n",
    "    content = content.replace('search_callback  ( ', '')\n",
    "    content = content[:-1]\n",
    "    apiJsonObject = json.loads(content)\n",
    "    doctorData = apiJsonObject['results']['data']\n",
    "    nextURLQuery = apiJsonObject['pagination']['next']\n",
    "    nextURL = baseURL + nextURLQuery\n",
    "    names = []\n",
    "    isAcceptingNewPatients = []\n",
    "    clinicAddresses = []\n",
    "    clinicNames = []\n",
    "    ratings = []\n",
    "    specialties = []\n",
    "    while len(nextURLQuery) > 0: \n",
    "        tempSpecialties = []\n",
    "        for doctor in doctorData:\n",
    "            names.append(doctor['displayName'])\n",
    "            isAcceptingNewPatients.append(doctor['isAcceptingNewPatients'])\n",
    "            currRating = doctor['avg_rating']\n",
    "            ratings.append(float(currRating) if len(currRating) != 0 else '')\n",
    "            currFocuses = []\n",
    "            for focus in doctor['clinicalFocuses']:\n",
    "                currFocuses.append(focus['value'])        \n",
    "                tempSpecialties.append(currFocuses)\n",
    "\n",
    "            currAddressList = []\n",
    "            currClinicNames = []\n",
    "            for clinic in doctor['contactInfo']:\n",
    "                currAddressList.append((clinic['address'] + ' ' + clinic['zip']).replace(',', ' '))\n",
    "                currClinicNames.append(clinic['OfficeName'])\n",
    "            clinicAddresses.append(currAddressList)\n",
    "            \n",
    "            # go through the populated address list for this doctor, check if the adjacent address zip code is the same\n",
    "            # and if address is shorter, remove that address and corresponding clinic name since it was a duplicate without\n",
    "            # \"suite\" number of the clinic\n",
    "            for i in range(1, len(currAddressList)):\n",
    "                currAddressInList = currAddressList[i] if len(currAddressList[i]) != 0 else ''\n",
    "                previousAddressInList = currAddressList[i - 1] if len(currAddressList[i - 1]) != 0 else ''\n",
    "                if((len(currAddressInList) > 0) & (len(previousAddressInList) > 4)):\n",
    "                    if (currAddressInList[-4] == previousAddressInList[-4]):\n",
    "                        if (len(currAddressInList) > len(previousAddressInList)):\n",
    "                            currAddressList[i - 1] = currAddressList[i - 1].replace(previousAddressInList, '')\n",
    "                            currClinicNames[i - 1] = currClinicNames[i - 1].replace(currClinicNames[i - 1], '')\n",
    "                        else:\n",
    "                            currAddressList[i] = currAddressList[i].replace(currAddressInList, '')\n",
    "                            currClinicNames[i] = currClinicNames[i].replace(currClinicNames[i], '')\n",
    "            clinicNames.append(currClinicNames)\n",
    "        # convert list to string separated by comma\n",
    "        for currSpecialty in tempSpecialties:\n",
    "            currSpecialty = ', '.join(currSpecialty)\n",
    "            specialties.append(currSpecialty)\n",
    "            \n",
    "        # get the next URL and keep processing till the end\n",
    "        nextURLQuery = ''\n",
    "        nextURL = ''\n",
    "        nextURLQuery = apiJsonObject['pagination']['next']\n",
    "        nextURL = baseURL + nextURLQuery[1:]\n",
    "        req=requests.get(nextURL)\n",
    "        content=req.text\n",
    "        content = content.replace('search_callback  ( ', '')\n",
    "        content = content[:-1]\n",
    "        apiJsonObject = json.loads(content)\n",
    "        doctorData = apiJsonObject['results']['data']\n",
    "#         print(nextURL)\n",
    "    zipped = list(zip(names, isAcceptingNewPatients, clinicAddresses, clinicNames, ratings, specialties))\n",
    "    df_combined = pd.DataFrame(zipped, columns=['Name', 'Accepting New Patients?', 'Clinic Address', 'Clinic Name', 'Rating', 'Specialties'])\n",
    "    return df_combined"
   ]
  },
  {
   "cell_type": "code",
   "execution_count": 186,
   "metadata": {},
   "outputs": [],
   "source": [
    "# Request to website and download HTML contents\n",
    "# primary care list of Stanford health \n",
    "url='https://stanfordhealthcare.org/bin/api/v1/search.json?do=organic_phys&x1=sp_prim_care_phy&?callback=axiosJsonpCallback2;do=organic_phys;i=1;q1=true;sp_c=20;sp_s=sp_isapp_lastName;x1=sp_prim_care_phy'\n",
    "baseURL = 'https://stanfordhealthcare.org/bin/api/v1/search.json?do=organic_phys&x1=sp_prim_care_phy&'\n",
    "primaryCareStanfordDF = returnDFfromAPIStanford(baseURL, url)\n",
    "# in case we want to create a separate row for each address for each doctor\n",
    "# colsToExpand = ['Clinic Address','Clinic Name']\n",
    "# primaryCareStanfordDF = primaryCareStanfordDF.explode(colsToExpand)\n",
    "# primaryCareStanfordDF.to_csv('primaryCareStanfordDF.csv')"
   ]
  },
  {
   "cell_type": "code",
   "execution_count": 188,
   "metadata": {},
   "outputs": [],
   "source": [
    "# Request to website and download HTML contents\n",
    "# specialist data of Stanford health\n",
    "# NOTE: This command takes about 3-4 minutes to run since it's going through 115 pages and it takes 1-2 seconds for each API call\n",
    "url='https://stanfordhealthcare.org/bin/api/v1/search.json?do=organic_phys&x1=sp_spec_care_phy&?callback=axiosJsonpCallback2;do=organic_phys;i=1;q1=true;sp_c=20;sp_s=sp_isapp_lastName;x1=sp_spec_care_phy'\n",
    "baseURL = 'https://stanfordhealthcare.org/bin/api/v1/search.json?do=organic_phys&x1=sp_spec_care_phy&'\n",
    "specialistStanfordDF = returnDFfromAPIStanford(baseURL, url)\n",
    "# colsToExpand = ['Clinic Address','Clinic Name']\n",
    "# specialistStanfordDF = specialistStanfordDF.explode(colsToExpand)\n",
    "# specialistStanfordDF.to_csv('df2.csv')"
   ]
  },
  {
   "cell_type": "code",
   "execution_count": 192,
   "metadata": {},
   "outputs": [],
   "source": [
    "# John Muir Medical\n",
    "def returnDFfromAPIJohnMuir(url):\n",
    "    names = []\n",
    "    ratings = []\n",
    "    clinicAddresses = []\n",
    "    clinicNames = []\n",
    "    isAcceptingNewPatients = []\n",
    "    specialties = []\n",
    "    \n",
    "    req2 = requests.get(url)\n",
    "    content2 = req2.text\n",
    "    JohnMuirJsonResp = json.loads(content2)\n",
    "    JohnMuirDoctorData = JohnMuirJsonResp['filteredSet']\n",
    "    for doctor in JohnMuirDoctorData:\n",
    "        tempSpecialties = []\n",
    "        names.append(doctor['doctor']['firstName'] + ' ' + doctor['doctor']['lastName'])\n",
    "        ratings.append(doctor['doctor']['rating'])\n",
    "        isAcceptingNewPatients.append(not(doctor['doctor']['isPracticeClosed']))\n",
    "        currDoctorSpecialties = []\n",
    "        for currSpecialty in doctor['doctor']['specialties']:\n",
    "            currDoctorSpecialties.append(currSpecialty['name'])\n",
    "        for currExpertise in doctor['doctor']['expertises']:\n",
    "            currDoctorSpecialties.append(currExpertise['name'])\n",
    "        tempSpecialties.append(currDoctorSpecialties)\n",
    "        officeList = []\n",
    "        for currSpecialty in tempSpecialties:\n",
    "            currSpecialty = ', '.join(currSpecialty)\n",
    "            specialties.append(currSpecialty)\n",
    "        for office in doctor['sortedOfficesByDistance']:\n",
    "            currOfficeAddress = (office['office']['addressLineOne'] + ' ' + office['office']['addressLineTwo'] \n",
    "                                 + office['office']['city'] + ' ' + office['office']['state'] + ' ' + office['office']['zip'])\n",
    "            officeList.append(currOfficeAddress)\n",
    "        clinicAddresses.append(officeList)\n",
    "        clinicNames.append('')\n",
    "    zipped = list(zip(names, isAcceptingNewPatients, clinicAddresses, clinicNames, ratings, specialties))\n",
    "    johnMuirDatadf = pd.DataFrame(zipped, columns=['Name', 'Accepting New Patients?', 'Clinic Address', 'Clinic Name', 'Rating', 'Specialties'])\n",
    "    return johnMuirDatadf\n",
    "    # print(specialties)"
   ]
  },
  {
   "cell_type": "code",
   "execution_count": 193,
   "metadata": {},
   "outputs": [],
   "source": [
    "johnMuirPrimaryCareAPI = 'https://www.johnmuirhealth.com/fad/api/searchResultsWithOffset?name=&specialty=&providerTypeNursePractitioner=on&providerTypePhysicianAssistant=on&jmpn=on&jmhpnRenewed=on&language=&groups=&offset=0&max=46&sortBy=1'\n",
    "primaryCareJohnMuirDF = returnDFfromAPIJohnMuir(johnMuirPrimaryCareAPI)\n",
    "# primaryCareJohnMuirDF = primaryCareJohnMuirDF.explode('Clinic Address')\n",
    "# primaryCareJohnMuirDF.to_csv('primaryCareJohnMuirDF.csv')"
   ]
  },
  {
   "cell_type": "code",
   "execution_count": 194,
   "metadata": {},
   "outputs": [],
   "source": [
    "johnMuirSpecialistAPI = 'https://www.johnmuirhealth.com/fad/api/searchResultsWithOffset?name=&specialty=&providerTypeDoctor=on&jmpn=on&jmhpnRenewed=on&language=&groups=&offset=0&max=883&sortBy=1'\n",
    "specialistJohnMuirDF = returnDFfromAPIJohnMuir(johnMuirSpecialistAPI)\n",
    "# specialistJohnMuirDF = specialistJohnMuirDF.explode('address')\n",
    "# specialistJohnMuirDF.to_csv('specialistJohnMuirDF.csv')"
   ]
  },
  {
   "cell_type": "code",
   "execution_count": 195,
   "metadata": {},
   "outputs": [],
   "source": [
    "primaryCareCombinedDF = pd.concat([primaryCareStanfordDF, primaryCareJohnMuirDF], ignore_index=True)\n",
    "primaryCareCombinedDF['isPrimaryCare'] = 'true'\n",
    "# primaryCareCombinedDF.to_csv('primaryCareCombinedDF.csv')"
   ]
  },
  {
   "cell_type": "code",
   "execution_count": 196,
   "metadata": {},
   "outputs": [],
   "source": [
    "specialistCombinedDF = pd.concat([specialistStanfordDF, specialistJohnMuirDF], ignore_index=True)\n",
    "specialistCombinedDF.to_csv('specialistCombinedDF.csv')\n",
    "specialistCombinedDF['isPrimaryCare'] = 'false'\n",
    "# specialistCombinedDF.to_csv('specialistCombinedDF.csv')"
   ]
  },
  {
   "cell_type": "code",
   "execution_count": 197,
   "metadata": {},
   "outputs": [],
   "source": [
    "combined_df = pd.concat([primaryCareCombinedDF, specialistCombinedDF], ignore_index=True)\n",
    "combined_df.to_csv('combined_df.csv')"
   ]
  },
  {
   "cell_type": "code",
   "execution_count": 198,
   "metadata": {},
   "outputs": [
    {
     "data": {
      "text/plain": [
       "Name                       object\n",
       "Accepting New Patients?    object\n",
       "Clinic Address             object\n",
       "Clinic Name                object\n",
       "Rating                     object\n",
       "Specialties                object\n",
       "isPrimaryCare              object\n",
       "dtype: object"
      ]
     },
     "execution_count": 198,
     "metadata": {},
     "output_type": "execute_result"
    }
   ],
   "source": [
    "combined_df.dtypes"
   ]
  },
  {
   "cell_type": "code",
   "execution_count": 199,
   "metadata": {},
   "outputs": [
    {
     "data": {
      "text/plain": [
       "(3396, 7)"
      ]
     },
     "execution_count": 199,
     "metadata": {},
     "output_type": "execute_result"
    }
   ],
   "source": [
    "# Data cleaning. Delete rows with empty data, change data type of cols, replace certain values\n",
    "combined_df['Name'] = combined_df['Name'].astype('string')\n",
    "combined_df['Accepting New Patients?'] = combined_df['Accepting New Patients?'].astype('bool')\n",
    "combined_df['Clinic Name'] = combined_df['Clinic Name'].astype('string')\n",
    "combined_df['Clinic Address'] = combined_df['Clinic Address'].astype('string')\n",
    "combined_df['Specialties'] = combined_df['Specialties'].astype('string')\n",
    "combined_df['Rating'] = combined_df['Rating'].replace('', np.nan)\n",
    "combined_df['Rating'] = combined_df['Rating'].astype('float')\n",
    "combined_df['isPrimaryCare'] = combined_df['isPrimaryCare'].astype('string')\n",
    "combined_df = combined_df[combined_df['Name'] != '']\n",
    "combined_df = combined_df[combined_df['Clinic Address'] != \"[]\"]\n",
    "\n",
    "combined_df.shape"
   ]
  },
  {
   "cell_type": "code",
   "execution_count": 203,
   "metadata": {},
   "outputs": [],
   "source": [
    "def searchDF(searchString):\n",
    "    searchString = searchString\n",
    "    if searchString == 'primary care':\n",
    "        queriedDf = combined_df.loc[combined_df['isPrimaryCare'] == 'true']\n",
    "    else:\n",
    "        queriedDf = combined_df[combined_df['Name'].str.contains(searchString) | combined_df['Clinic Address'].str.contains(searchString) \n",
    "                                | combined_df['Clinic Name'].str.contains(searchString) | combined_df['Specialties'].str.contains(searchString)]\n",
    "    queriedDf = queriedDf.sort_values(['Rating', 'Name'], ascending=[False, True])\n",
    "    queriedDf['Rating'] = queriedDf['Rating'].astype('string')\n",
    "    queriedDf['Rating'] = queriedDf['Rating'].replace(np.nan, 'No Rating')\n",
    "    return queriedDf if len(queriedDf) > 0 else 'No Results. Search is case-sensitive. Please check the query.' "
   ]
  },
  {
   "cell_type": "code",
   "execution_count": 204,
   "metadata": {},
   "outputs": [
    {
     "data": {
      "text/plain": [
       "'No Results. Search is case-sensitive. Please check the query.'"
      ]
     },
     "execution_count": 204,
     "metadata": {},
     "output_type": "execute_result"
    }
   ],
   "source": [
    "searchDF('susan')"
   ]
  },
  {
   "cell_type": "code",
   "execution_count": null,
   "metadata": {},
   "outputs": [],
   "source": []
  }
 ],
 "metadata": {
  "kernelspec": {
   "display_name": "Python 3",
   "language": "python",
   "name": "python3"
  },
  "language_info": {
   "codemirror_mode": {
    "name": "ipython",
    "version": 3
   },
   "file_extension": ".py",
   "mimetype": "text/x-python",
   "name": "python",
   "nbconvert_exporter": "python",
   "pygments_lexer": "ipython3",
   "version": "3.7.6"
  }
 },
 "nbformat": 4,
 "nbformat_minor": 4
}
